{
 "cells": [
  {
   "cell_type": "markdown",
   "metadata": {},
   "source": [
    "# Band extraction for the EFT analysis calibration\n",
    "\n",
    "This jupyter notebook has been developped to extract the CH3T, DD-gun and C14 bands for the LUX EFT analysis calibration. \n",
    "Before using this macro, please be sure that you pull all the data needed for this analysis by using either `getDataOnPDSF.sh` or `getDataFromPDSF.sh`. \n",
    "\n",
    "Contact: Q. Riffard (qriffard -at- lbl.gov)"
   ]
  },
  {
   "cell_type": "markdown",
   "metadata": {},
   "source": [
    "## Imports"
   ]
  },
  {
   "cell_type": "code",
   "execution_count": 1,
   "metadata": {},
   "outputs": [
    {
     "name": "stdout",
     "output_type": "stream",
     "text": [
      "Welcome to JupyROOT 6.14/02\n"
     ]
    }
   ],
   "source": [
    "# Usefull path to add\n",
    "import sys\n",
    "sys.path.insert(2, 'common')\n",
    "\n",
    "import os\n",
    "import datetime\n",
    "import numpy as np\n",
    "import matplotlib.pyplot as plt\n",
    "\n",
    "import common_tools as tools\n",
    "import extraction\n",
    "import band_calculation\n",
    "\n",
    "\n",
    "%matplotlib inline"
   ]
  },
  {
   "cell_type": "markdown",
   "metadata": {},
   "source": [
    "## Data list and definition of the time bins and drift bins"
   ]
  },
  {
   "cell_type": "code",
   "execution_count": 8,
   "metadata": {},
   "outputs": [
    {
     "ename": "IndentationError",
     "evalue": "unexpected indent (<ipython-input-8-c3bd73e85e58>, line 12)",
     "output_type": "error",
     "traceback": [
      "\u001b[0;36m  File \u001b[0;32m\"<ipython-input-8-c3bd73e85e58>\"\u001b[0;36m, line \u001b[0;32m12\u001b[0m\n\u001b[0;31m    (datetime.datetime(2015, 1, 1), datetime.datetime(2015, 4, 1)),\u001b[0m\n\u001b[0m    ^\u001b[0m\n\u001b[0;31mIndentationError\u001b[0m\u001b[0;31m:\u001b[0m unexpected indent\n"
     ]
    }
   ],
   "source": [
    "# Path to the .npz data file\n",
    "data_path = 'data/'\n",
    "\n",
    "# If you want to extract the bands for a specific data set: comment the others.\n",
    "data_list = []\n",
    "data_list.append({'label': 'Run4 C14',  'name':'C14',  'run': 4,'filename': 'C14_Run04_peaks.npz'})\n",
    "data_list.append({'label': 'Run4 DD',   'name':'DD',   'run': 4,'filename': 'DD_Run04_peaks_keep.npz'})\n",
    "data_list.append({'label': 'Run4 CH3T', 'name':'CH3T', 'run': 4,'filename': 'CH3T_Run04_peaks.npz'})\n",
    "\n",
    "# Definition of the time bins\n",
    "time_bins = [(datetime.datetime(2014, 9, 9), datetime.datetime(2015, 1, 1)),\n",
    "             (datetime.datetime(2015, 1, 1), datetime.datetime(2015, 4, 1)),\n",
    "             (datetime.datetime(2015, 4, 1), datetime.datetime(2015, 10, 1)),\n",
    "             (datetime.datetime(2015, 10, 1), datetime.datetime(2018, 10, 1))] # The end of the time bin #4 doesn't matter\n",
    "\n",
    "# Definition of the drift bins\n",
    "drift_bins = [(40, 105), (105, 170), (170, 235), (235, 300)]\n",
    "\n",
    "\n",
    "# Si bin max value\n",
    "all_s1_bin_max = {'Run4 C14':800, 'Run4 DD':100, 'Run4 CH3T':100}\n"
   ]
  },
  {
   "cell_type": "markdown",
   "metadata": {},
   "source": [
    "## Extract the data"
   ]
  },
  {
   "cell_type": "code",
   "execution_count": 3,
   "metadata": {},
   "outputs": [
    {
     "name": "stdout",
     "output_type": "stream",
     "text": [
      "Extract Run4 CH3T from data/CH3T_Run04_peaks.npz\n",
      "Extraction completed !!\n"
     ]
    }
   ],
   "source": [
    "# Collect all the data into this dictionary\n",
    "data_colection = {}\n",
    "\n",
    "# list of RQs to save\n",
    "rqs_to_save = ['S1_area_cor', 'S2_area_cor','S1_spiky_cor', 'S2_drift', 'luxstamp_date']\n",
    "\n",
    "for meta in data_list:\n",
    "    \n",
    "    label = meta['label']\n",
    "    filename =  meta['filename']\n",
    "    name = meta['name']\n",
    "    run = meta['run']\n",
    "    s1_bin_max = all_s1_bin_max[label]\n",
    "    \n",
    "    \n",
    "    filename = data_path + filename\n",
    "\n",
    "    print('Extract',label, 'from', filename)\n",
    "\n",
    "    data = dict(np.load(filename))\n",
    "\n",
    "    # Apply field unit conversion from V/m to V/cm\n",
    "    data = tools.applyUnitTransformation(data, keys_to_trans=['field'], trans_factor=[1/100.])\n",
    "\n",
    "    # Convert the luxstamp into date time\n",
    "    data['luxstamp_date'] = tools.luxstampToDate(data['luxstamp'])\n",
    "\n",
    "    all_cuts = extraction.getDataCut(data, name, run)\n",
    "\n",
    "    # Get the data with the cut applied\n",
    "    data_cuted = tools.reduceData(data, all_cuts,rqs_to_save)\n",
    "\n",
    "    # Build the S1 observable\n",
    "    data_cuted['S1_obs'] = (data_cuted['S1_spiky_cor'] * (data_cuted['S1_area_cor'] < 120)) + (data_cuted['S1_area_cor'] * (data_cuted['S1_area_cor'] >= 120))\n",
    "\n",
    "\n",
    "    # Get only the needed data\n",
    "    data_out = {}\n",
    "    \n",
    "    data_out['s1'] = data_cuted['S1_obs']\n",
    "    data_out['s2'] = data_cuted['S2_area_cor']\n",
    "    data_out['luxstamp_date'] = data_cuted['luxstamp_date']\n",
    "    data_out['tdrift'] = data_cuted['S2_drift']\n",
    "    \n",
    "\n",
    "    # Make the conversion to numpy array\n",
    "    for key, val in data_out.items(): data_out[key] = np.array(val)\n",
    "        \n",
    "    # Add the merged data\n",
    "    data_colection[label] = data_out\n",
    "         \n",
    "print('Extraction completed !!')"
   ]
  },
  {
   "cell_type": "markdown",
   "metadata": {},
   "source": [
    "## Extract the band for each time bin and each drift bin\n",
    "\n"
   ]
  },
  {
   "cell_type": "code",
   "execution_count": 4,
   "metadata": {},
   "outputs": [
    {
     "name": "stderr",
     "output_type": "stream",
     "text": [
      "/usr/local/lib/python3.7/site-packages/numpy/core/fromnumeric.py:2957: RuntimeWarning: Mean of empty slice.\n",
      "  out=out, **kwargs)\n",
      "/usr/local/lib/python3.7/site-packages/numpy/core/_methods.py:80: RuntimeWarning: invalid value encountered in double_scalars\n",
      "  ret = ret.dtype.type(ret / rcount)\n",
      "/usr/local/lib/python3.7/site-packages/numpy/core/_methods.py:135: RuntimeWarning: Degrees of freedom <= 0 for slice\n",
      "  keepdims=keepdims)\n",
      "/usr/local/lib/python3.7/site-packages/numpy/core/_methods.py:105: RuntimeWarning: invalid value encountered in true_divide\n",
      "  arrmean, rcount, out=arrmean, casting='unsafe', subok=False)\n",
      "/usr/local/lib/python3.7/site-packages/numpy/core/_methods.py:127: RuntimeWarning: invalid value encountered in double_scalars\n",
      "  ret = ret.dtype.type(ret / rcount)\n"
     ]
    }
   ],
   "source": [
    "band_collection = {}\n",
    "\n",
    "for meta in data_list:\n",
    "    \n",
    "    label = meta['label']\n",
    "    data = data_colection[label]\n",
    "    \n",
    "    data_s1 = data['s1']\n",
    "    data_s2 = data['s2']\n",
    "    data_luxstamp_date = data['luxstamp_date']\n",
    "    data_tdrift = data['tdrift']\n",
    "    s1_bin_max = all_s1_bin_max[label]\n",
    "    \n",
    "    band_collection[label] = {}\n",
    "    \n",
    "    for ibin, (time_min, time_max) in enumerate(time_bins):\n",
    "        \n",
    "        TB = 'Time bin {0}'.format(ibin+1)\n",
    "        band_collection[label][TB] = {}\n",
    "        \n",
    "        for drift_min, drift_max in drift_bins:\n",
    "            \n",
    "            cut_time = (data_luxstamp_date > time_min) * (data_luxstamp_date < time_max)\n",
    "            cut_drift = (data_tdrift > drift_min) * (data_tdrift < drift_max)\n",
    "            \n",
    "            cuts = cut_time * cut_drift\n",
    "            \n",
    "            if np.sum( cuts ) ==0: continue\n",
    "            \n",
    "            s1c_bins = np.linspace(0.5, s1_bin_max+.5, s1_bin_max + 1)\n",
    "            band = band_calculation.getBand(data_s1[cuts], data_s2[cuts], s1c_bins, return_err=True, return_sigma=True)\n",
    "            \n",
    "            band_collection[label][TB]['{0} < tdrift < {1} us'.format(drift_min, drift_max)] = (band,s1_bin_max)\n",
    "            \n",
    "    #band_s1c, band_lq, band_lq_err, band_lq_sigma, band_lq_sigma_err"
   ]
  },
  {
   "cell_type": "markdown",
   "metadata": {},
   "source": [
    "## Do plots"
   ]
  },
  {
   "cell_type": "code",
   "execution_count": 7,
   "metadata": {
    "scrolled": false
   },
   "outputs": [
    {
     "name": "stdout",
     "output_type": "stream",
     "text": [
      "[3.01013322 2.8061357  2.76204028 2.66132497 2.58188255 2.52336852\n",
      " 2.46035091 2.44509802 2.39152566 2.38265854 2.34905426 2.33499678\n",
      " 2.3047909  2.29629135 2.28117582 2.25388887 2.23604052 2.23358991\n",
      " 2.23131115 2.19740024 2.21859554 2.20729772 2.18382719 2.17863708\n",
      " 2.1894137  2.13927318 2.16021731 2.16927575 2.13102469 2.1636689\n",
      " 2.12990369 2.12668254 2.1133861  2.11010931 2.10724733 2.10813501\n",
      " 2.08730023 2.11315754 2.09096135 2.06995879 2.10346162 2.08644567\n",
      " 2.08558605 2.07814952 2.07930721 2.06378256 2.07478028 2.07776353\n",
      " 2.05631386 2.03933918 2.06391541 2.08757888 2.05650138 2.059617\n",
      " 2.04545399 2.03052595 2.01784319 2.0095509  2.01210539 2.03500463\n",
      " 2.03269914 2.025731   1.97421265 2.01879402 1.99327647 2.00994743\n",
      " 1.99757167 1.984711   1.98554118 1.98898668 1.99602408 1.99293841\n",
      " 2.0146219  2.02315953 1.98519654 1.95719169 1.98751775 1.8973762\n",
      " 1.92225145 1.91035002 1.96114908 1.99917316 1.91895518 1.93720173\n",
      " 1.87931559 1.87547764 1.88076737 1.95015501 1.89015464        nan\n",
      " 1.91828794 1.8430778  1.85169489        nan 1.87154082        nan\n",
      " 1.78391228        nan 1.82903984 1.82364438]\n"
     ]
    },
    {
     "data": {
      "image/png": "[encoded data removed]",
      "text/plain": [
       "<matplotlib.figure.Figure at 0x4472b5a58>"
      ]
     },
     "metadata": {},
     "output_type": "display_data"
    }
   ],
   "source": [
    "for label, band_TB in band_collection.items():\n",
    "    \n",
    "    s1_bin_max = all_s1_bin_max[label]\n",
    "    \n",
    "    for TB, band_TB_drift in band_TB.items():\n",
    "                \n",
    "        if len(band_TB_drift) == 0: continue\n",
    "            \n",
    "        fig_band, axes_band = plt.subplots(ncols=2, nrows=2, figsize=(15, 15))\n",
    "        axes_band = axes_band.flatten()\n",
    "            \n",
    "        for index, (drift,\n",
    "                    ((band_s1c, band_lq, band_lq_err,\n",
    "                      band_lq_sigma, band_lq_sigma_err), s1_bin_max)) in enumerate(band_TB_drift.items()):\n",
    "    \n",
    "            print(band_lq)\n",
    "    \n",
    "            axes_band[index].plot(band_s1c, band_lq, color='C0', label=label)\n",
    "            axes_band[index].plot(band_s1c, band_lq + band_lq_sigma, color='C0', linestyle='dashed')        \n",
    "            axes_band[index].plot(band_s1c, band_lq - band_lq_sigma, color='C0', linestyle='dashed')\n",
    "\n",
    "            axes_band[index].set_title(drift)\n",
    "            axes_band[index].set_xlim([0, s1_bin_max])\n",
    "            axes_band[index].set_ylim([1, 3.8])\n",
    "            axes_band[index].set_xlabel('S1 [phd]')\n",
    "            axes_band[index].set_ylabel('$\\log_{10}(S2/S1)$')\n",
    "            \n",
    "        fig_band.suptitle('{0} {1}'.format(label,TB), verticalalignment='bottom', y = 0.9, fontsize=20)\n",
    "    "
   ]
  },
  {
   "cell_type": "markdown",
   "metadata": {},
   "source": [
    "## Save the bands in output file"
   ]
  },
  {
   "cell_type": "code",
   "execution_count": 6,
   "metadata": {},
   "outputs": [
    {
     "name": "stdout",
     "output_type": "stream",
     "text": [
      "Write the band Run4 CH3T Time bin 1 40 < tdrift < 105 us ......\n",
      "................... into bands/Run4_CH3T_Time_bin_1_40_tdrift_105_us.dat\n"
     ]
    }
   ],
   "source": [
    "os.system('mkdir -p bands')\n",
    "\n",
    "for label, band_TB in band_collection.items():\n",
    "    \n",
    "    s1_bin_max = all_s1_bin_max[label]\n",
    "    \n",
    "    for TB, band_TB_drift in band_TB.items():\n",
    "                \n",
    "        if len(band_TB_drift) == 0: continue\n",
    "                \n",
    "        for index, (drift,\n",
    "                    ((band_s1c, band_lq, band_lq_err,\n",
    "                      band_lq_sigma, band_lq_sigma_err), s1_bin_max)) in enumerate(band_TB_drift.items()):\n",
    "    \n",
    "            filename = 'bands/{0}_{1}_{2}.dat'.format(label, TB, drift)\n",
    "            filename = filename.replace(' ', '_')\n",
    "            filename = filename.replace('<', '')\n",
    "            filename = filename.replace('__', '_')\n",
    "            \n",
    "            \n",
    "            file = open(filename, 'w')\n",
    "            file.write('Data set: {0}\\n'.format(label))\n",
    "            file.write('Time bin: {0}\\n'.format(TB))\n",
    "            file.write('Drift bin: {0}\\n'.format(drift))\n",
    "            file.write('s1c mean mean_err sigma sigma_err\\n')\n",
    "            \n",
    "            \n",
    "            for s1c, mean, mean_err, sigma, sigma_err in  zip(band_s1c, band_lq, band_lq_err, band_lq_sigma, band_lq_sigma_err):\n",
    "                file.write('{0} {1} {2} {3} {4}\\n'.format(s1c, mean, mean_err, sigma, sigma_err))\n",
    "            \n",
    "            file.close()\n",
    "            \n",
    "            print('Write the band', label, TB, drift, '......\\n................... into', filename)\n",
    "\n",
    "    "
   ]
  },
  {
   "cell_type": "markdown",
   "metadata": {},
   "source": [
    "![title](tada.jpg)"
   ]
  },
  {
   "cell_type": "code",
   "execution_count": null,
   "metadata": {},
   "outputs": [],
   "source": []
  }
 ],
 "metadata": {
  "kernelspec": {
   "display_name": "Python 3",
   "language": "python",
   "name": "python3"
  },
  "language_info": {
   "codemirror_mode": {
    "name": "ipython",
    "version": 3
   },
   "file_extension": ".py",
   "mimetype": "text/x-python",
   "name": "python",
   "nbconvert_exporter": "python",
   "pygments_lexer": "ipython3",
   "version": "3.7.0"
  }
 },
 "nbformat": 4,
 "nbformat_minor": 2
}
